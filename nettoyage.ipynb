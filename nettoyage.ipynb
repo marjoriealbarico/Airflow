{
 "cells": [
  {
   "cell_type": "code",
   "execution_count": 6,
   "metadata": {},
   "outputs": [
    {
     "name": "stdout",
     "output_type": "stream",
     "text": [
      "Collecting pandas\n",
      "  Obtaining dependency information for pandas from https://files.pythonhosted.org/packages/a0/68/265225df9e90ade0c332db4148e9aff8c9bcb4e8dd6c681ec4f512770765/pandas-2.1.3-cp312-cp312-macosx_11_0_arm64.whl.metadata\n",
      "  Downloading pandas-2.1.3-cp312-cp312-macosx_11_0_arm64.whl.metadata (18 kB)\n",
      "Collecting numpy<2,>=1.26.0 (from pandas)\n",
      "  Obtaining dependency information for numpy<2,>=1.26.0 from https://files.pythonhosted.org/packages/2a/17/1fdc154e75d24d8c20c42b71bae1b5cf752453f0fc3a2504bbb810293dd1/numpy-1.26.2-cp312-cp312-macosx_11_0_arm64.whl.metadata\n",
      "  Downloading numpy-1.26.2-cp312-cp312-macosx_11_0_arm64.whl.metadata (61 kB)\n",
      "\u001b[2K     \u001b[90m━━━━━━━━━━━━━━━━━━━━━━━━━━━━━━━━━━━━━━━━\u001b[0m \u001b[32m61.2/61.2 kB\u001b[0m \u001b[31m3.2 MB/s\u001b[0m eta \u001b[36m0:00:00\u001b[0m\n",
      "\u001b[?25hRequirement already satisfied: python-dateutil>=2.8.2 in /Users/marjoriealbarico/Library/Python/3.12/lib/python/site-packages (from pandas) (2.8.2)\n",
      "Collecting pytz>=2020.1 (from pandas)\n",
      "  Obtaining dependency information for pytz>=2020.1 from https://files.pythonhosted.org/packages/32/4d/aaf7eff5deb402fd9a24a1449a8119f00d74ae9c2efa79f8ef9994261fc2/pytz-2023.3.post1-py2.py3-none-any.whl.metadata\n",
      "  Using cached pytz-2023.3.post1-py2.py3-none-any.whl.metadata (22 kB)\n",
      "Collecting tzdata>=2022.1 (from pandas)\n",
      "  Using cached tzdata-2023.3-py2.py3-none-any.whl (341 kB)\n",
      "Requirement already satisfied: six>=1.5 in /Users/marjoriealbarico/Library/Python/3.12/lib/python/site-packages (from python-dateutil>=2.8.2->pandas) (1.16.0)\n",
      "Downloading pandas-2.1.3-cp312-cp312-macosx_11_0_arm64.whl (10.6 MB)\n",
      "\u001b[2K   \u001b[90m━━━━━━━━━━━━━━━━━━━━━━━━━━━━━━━━━━━━━━━━\u001b[0m \u001b[32m10.6/10.6 MB\u001b[0m \u001b[31m9.6 MB/s\u001b[0m eta \u001b[36m0:00:00\u001b[0m00:01\u001b[0m00:01\u001b[0m\n",
      "\u001b[?25hDownloading numpy-1.26.2-cp312-cp312-macosx_11_0_arm64.whl (13.7 MB)\n",
      "\u001b[2K   \u001b[90m━━━━━━━━━━━━━━━━━━━━━━━━━━━━━━━━━━━━━━━━\u001b[0m \u001b[32m13.7/13.7 MB\u001b[0m \u001b[31m6.5 MB/s\u001b[0m eta \u001b[36m0:00:00\u001b[0m00:01\u001b[0m00:01\u001b[0m\n",
      "\u001b[?25hUsing cached pytz-2023.3.post1-py2.py3-none-any.whl (502 kB)\n",
      "Installing collected packages: pytz, tzdata, numpy, pandas\n",
      "Successfully installed numpy-1.26.2 pandas-2.1.3 pytz-2023.3.post1 tzdata-2023.3\n",
      "\n",
      "\u001b[1m[\u001b[0m\u001b[34;49mnotice\u001b[0m\u001b[1;39;49m]\u001b[0m\u001b[39;49m A new release of pip is available: \u001b[0m\u001b[31;49m23.2.1\u001b[0m\u001b[39;49m -> \u001b[0m\u001b[32;49m23.3.1\u001b[0m\n",
      "\u001b[1m[\u001b[0m\u001b[34;49mnotice\u001b[0m\u001b[1;39;49m]\u001b[0m\u001b[39;49m To update, run: \u001b[0m\u001b[32;49mpip3 install --upgrade pip\u001b[0m\n",
      "Note: you may need to restart the kernel to use updated packages.\n"
     ]
    }
   ],
   "source": [
    "pip install pandas"
   ]
  },
  {
   "cell_type": "code",
   "execution_count": 4,
   "metadata": {},
   "outputs": [],
   "source": [
    "import pandas as pd"
   ]
  },
  {
   "cell_type": "code",
   "execution_count": 21,
   "metadata": {},
   "outputs": [
    {
     "name": "stdout",
     "output_type": "stream",
     "text": [
      "Original Data:\n",
      "   Code tranches d'age         Unnamed: 1\n",
      "0                    0        \"Tous âges\"\n",
      "1                    1          \"0-4 ans\"\n",
      "2                    2         \"5-14 ans\"\n",
      "3                    3        \"15-44 ans\"\n",
      "4                    4        \"45-64 ans\"\n",
      "5                    5        \"65-74 ans\"\n",
      "6                    6   \"75 ans ou plus\"\n"
     ]
    }
   ],
   "source": [
    "# Load the data\n",
    "df_age = pd.read_csv('data/code-tranches-dage-donnees-urgences.csv', delimiter=';')\n",
    "\n",
    "# Display the original dataframe\n",
    "print(\"Original Data:\")\n",
    "print(df_age)\n"
   ]
  },
  {
   "cell_type": "code",
   "execution_count": 14,
   "metadata": {},
   "outputs": [
    {
     "name": "stdout",
     "output_type": "stream",
     "text": [
      "\n",
      "Cleaned Data:\n",
      "  Code tranches d'age  age min  age max\n",
      "1                   0      0.0    120.0\n",
      "2                   1      0.0      4.0\n",
      "3                   2      5.0     14.0\n",
      "4                   3     15.0     44.0\n",
      "5                   4     45.0     64.0\n",
      "6                   5     65.0     74.0\n",
      "7                   6     75.0    120.0\n"
     ]
    }
   ],
   "source": [
    "df_age = pd.read_csv('data/code-tranches-dage-donnees-urgences.csv', delimiter=';', header=None)\n",
    "\n",
    "\n",
    "# Rename the columns\n",
    "df_age.columns = ['Code tranches d\\'age', 'tranche d\\'age']\n",
    "\n",
    "# Remove unnecessary characters from the 'tranche d\\'age' column\n",
    "df_age['tranche d\\'age'] = df_age['tranche d\\'age'].str.replace('\"', '')\n",
    "df_age['tranche d\\'age'] = df_age['tranche d\\'age'].str.replace(' ans', '')\n",
    "\n",
    "# Split the age ranges and create 'age min' and 'age max' columns\n",
    "df_age[['age min', 'age max']] = df_age['tranche d\\'age'].str.split('-', expand=True)\n",
    "\n",
    "# Convert the new columns to numeric values\n",
    "df_age['age min'] = pd.to_numeric(df_age['age min'], errors='coerce')\n",
    "df_age['age max'] = pd.to_numeric(df_age['age max'].str.replace(' ou plus', ''), errors='coerce')\n",
    "\n",
    "# Set specific values for 'Tous âges' and '75 ou plus'\n",
    "df_age.loc[df_age['tranche d\\'age'].fillna('').str.contains('Tous âges'), ['age min', 'age max']] = [0, 120]\n",
    "df_age.loc[df_age['tranche d\\'age'].fillna('').str.contains('75 ou plus'), ['age min', 'age max']] = [75, 120]\n",
    "\n",
    "# Remove rows where 'Code tranches d'age' is 'Code tranches d'age'\n",
    "cleaned_df_age = df_age[df_age['Code tranches d\\'age'] != 'Code tranches d\\'age'].copy()\n",
    "# Assuming cleaned_df_age is your DataFrame containing the data\n",
    "cleaned_df_age.drop(columns=['tranche d\\'age'], inplace=True)\n",
    "\n",
    "# Display the updated dataframe\n",
    "print(\"\\nCleaned Data:\")\n",
    "print(cleaned_df_age)\n",
    "\n",
    "# Save the cleaned DataFrame to a new CSV file\n",
    "cleaned_df_age.to_csv('data/cleaned_age_data.csv', index=False)\n"
   ]
  },
  {
   "cell_type": "code",
   "execution_count": 16,
   "metadata": {},
   "outputs": [
    {
     "name": "stdout",
     "output_type": "stream",
     "text": [
      "   num_dep_int                 dep_name                 region_name\n",
      "0            1                      Ain        Auvergne-Rhône-Alpes\n",
      "1            2                    Aisne             Hauts-de-France\n",
      "2            3                   Allier        Auvergne-Rhône-Alpes\n",
      "3            4  Alpes-de-Haute-Provence  Provence-Alpes-Côte d'Azur\n",
      "4            5             Hautes-Alpes  Provence-Alpes-Côte d'Azur\n",
      "5            6          Alpes-Maritimes  Provence-Alpes-Côte d'Azur\n",
      "6            7                  Ardèche        Auvergne-Rhône-Alpes\n",
      "7            8                 Ardennes                   Grand Est\n",
      "8            9                   Ariège                   Occitanie\n",
      "9           10                     Aube                   Grand Est\n",
      "     num_dep_int           dep_name    region_name\n",
      "91            92            Essonne  Île-de-France\n",
      "92            93     Hauts-de-Seine  Île-de-France\n",
      "93            94  Seine-Saint-Denis  Île-de-France\n",
      "94            95       Val-de-Marne  Île-de-France\n",
      "95            96         Val-d'Oise  Île-de-France\n",
      "96            97         Guadeloupe     Guadeloupe\n",
      "97            98         Martinique     Martinique\n",
      "98            99             Guyane         Guyane\n",
      "99           100         La Réunion     La Réunion\n",
      "100          101            Mayotte        Mayotte\n"
     ]
    }
   ],
   "source": [
    "import json\n",
    "\n",
    "# Read the JSON file\n",
    "with open('data/departements-region.json', 'r', encoding='utf-8') as file:\n",
    "    data = json.load(file)\n",
    "\n",
    "# Generate a mapping of alphanumeric values to integers\n",
    "alpha_numeric_mapping = {entry['num_dep']: idx for idx, entry in enumerate(data, start=1)}\n",
    "\n",
    "# Modify the 'num_dep' values in the JSON data using the mapping\n",
    "for entry in data:\n",
    "    entry['num_dep'] = alpha_numeric_mapping[entry['num_dep']]\n",
    "\n",
    "# Convert to DataFrame\n",
    "df = pd.DataFrame(data)\n",
    "\n",
    "# Display the cleaned DataFrame with integer values in the 'num_dep' column\n",
    "df_cleaned_dept = df.rename(columns={'num_dep': 'num_dep_int'})  # Renaming for clarity\n",
    "print(df_cleaned_dept.head(10))\n",
    "print(df_cleaned_dept.tail(10))\n",
    "\n",
    "# Save the cleaned DataFrame to a new CSV file\n",
    "df_cleaned_dept.to_csv('data/cleaned_dept_data.csv', index=False)\n"
   ]
  },
  {
   "cell_type": "code",
   "execution_count": 28,
   "metadata": {},
   "outputs": [
    {
     "name": "stdout",
     "output_type": "stream",
     "text": [
      "    dep date_de_passage  sursaud_cl_age_corona  nbre_pass_corona  \\\n",
      "0     1      2022-12-26                      0               9.0   \n",
      "1     1      2022-12-26                      1               0.0   \n",
      "2     1      2022-12-26                      2               0.0   \n",
      "3     1      2022-12-26                      3               1.0   \n",
      "4     1      2022-12-26                      4               1.0   \n",
      "5     1      2022-12-26                      5               1.0   \n",
      "6     1      2022-12-26                      6               6.0   \n",
      "7     1      2022-12-27                      0               6.0   \n",
      "8     1      2022-12-27                      1               0.0   \n",
      "9     1      2022-12-27                      2               0.0   \n",
      "10    1      2022-12-27                      3               0.0   \n",
      "11    1      2022-12-27                      4               0.0   \n",
      "12    1      2022-12-27                      5               4.0   \n",
      "13    1      2022-12-27                      6               2.0   \n",
      "14    1      2022-12-28                      0               4.0   \n",
      "\n",
      "    nbre_pass_tot  nbre_hospit_corona  nbre_pass_corona_h  nbre_pass_corona_f  \\\n",
      "0           435.0                 4.0                 6.0                 3.0   \n",
      "1            58.0                 0.0                 NaN                 NaN   \n",
      "2            30.0                 0.0                 NaN                 NaN   \n",
      "3           138.0                 0.0                 NaN                 NaN   \n",
      "4            88.0                 0.0                 NaN                 NaN   \n",
      "5            45.0                 0.0                 NaN                 NaN   \n",
      "6            75.0                 4.0                 NaN                 NaN   \n",
      "7           452.0                 4.0                 1.0                 5.0   \n",
      "8            42.0                 0.0                 NaN                 NaN   \n",
      "9            39.0                 0.0                 NaN                 NaN   \n",
      "10          155.0                 0.0                 NaN                 NaN   \n",
      "11           86.0                 0.0                 NaN                 NaN   \n",
      "12           40.0                 2.0                 NaN                 NaN   \n",
      "13           90.0                 2.0                 NaN                 NaN   \n",
      "14          428.0                 0.0                 2.0                 2.0   \n",
      "\n",
      "    nbre_pass_tot_h  nbre_pass_tot_f  nbre_hospit_corona_h  \\\n",
      "0             219.0            216.0                   1.0   \n",
      "1               NaN              NaN                   NaN   \n",
      "2               NaN              NaN                   NaN   \n",
      "3               NaN              NaN                   NaN   \n",
      "4               NaN              NaN                   NaN   \n",
      "5               NaN              NaN                   NaN   \n",
      "6               NaN              NaN                   NaN   \n",
      "7             236.0            216.0                   0.0   \n",
      "8               NaN              NaN                   NaN   \n",
      "9               NaN              NaN                   NaN   \n",
      "10              NaN              NaN                   NaN   \n",
      "11              NaN              NaN                   NaN   \n",
      "12              NaN              NaN                   NaN   \n",
      "13              NaN              NaN                   NaN   \n",
      "14            210.0            218.0                   0.0   \n",
      "\n",
      "    nbre_hospit_corona_f  nbre_acte_corona  nbre_acte_tot  nbre_acte_corona_h  \\\n",
      "0                    3.0               NaN            NaN                 NaN   \n",
      "1                    NaN               NaN            NaN                 NaN   \n",
      "2                    NaN               NaN            NaN                 NaN   \n",
      "3                    NaN               NaN            NaN                 NaN   \n",
      "4                    NaN               NaN            NaN                 NaN   \n",
      "5                    NaN               NaN            NaN                 NaN   \n",
      "6                    NaN               NaN            NaN                 NaN   \n",
      "7                    4.0               NaN            NaN                 NaN   \n",
      "8                    NaN               NaN            NaN                 NaN   \n",
      "9                    NaN               NaN            NaN                 NaN   \n",
      "10                   NaN               NaN            NaN                 NaN   \n",
      "11                   NaN               NaN            NaN                 NaN   \n",
      "12                   NaN               NaN            NaN                 NaN   \n",
      "13                   NaN               NaN            NaN                 NaN   \n",
      "14                   0.0               NaN            NaN                 NaN   \n",
      "\n",
      "    nbre_acte_corona_f  nbre_acte_tot_h  nbre_acte_tot_f  \n",
      "0                  NaN              NaN              NaN  \n",
      "1                  NaN              NaN              NaN  \n",
      "2                  NaN              NaN              NaN  \n",
      "3                  NaN              NaN              NaN  \n",
      "4                  NaN              NaN              NaN  \n",
      "5                  NaN              NaN              NaN  \n",
      "6                  NaN              NaN              NaN  \n",
      "7                  NaN              NaN              NaN  \n",
      "8                  NaN              NaN              NaN  \n",
      "9                  NaN              NaN              NaN  \n",
      "10                 NaN              NaN              NaN  \n",
      "11                 NaN              NaN              NaN  \n",
      "12                 NaN              NaN              NaN  \n",
      "13                 NaN              NaN              NaN  \n",
      "14                 NaN              NaN              NaN  \n"
     ]
    }
   ],
   "source": [
    "# Load CSV into a DataFrame\n",
    "df_urgences = pd.read_csv('data/donnees-urgences-SOS-medecins.csv', delimiter=';', low_memory=False)\n",
    "\n",
    "# Remove non-numeric characters from the 'dep' column\n",
    "df_urgences['dep'] = df_urgences['dep'].str.replace(r'\\D', '', regex=True)\n",
    "\n",
    "# Convert the 'dep' column to integers\n",
    "df_urgences['dep'] = pd.to_numeric(df_urgences['dep'], errors='coerce')\n",
    "print(df_urgences.head(15))"
   ]
  },
  {
   "cell_type": "code",
   "execution_count": 19,
   "metadata": {},
   "outputs": [
    {
     "name": "stdout",
     "output_type": "stream",
     "text": [
      "  dep date_de_passage  sursaud_cl_age_corona  nbre_pass_corona  nbre_pass_tot  \\\n",
      "0  01      2022-12-26                      0               9.0          435.0   \n",
      "1  01      2022-12-26                      1               0.0           58.0   \n",
      "2  01      2022-12-26                      2               0.0           30.0   \n",
      "3  01      2022-12-26                      3               1.0          138.0   \n",
      "4  01      2022-12-26                      4               1.0           88.0   \n",
      "\n",
      "   nbre_hospit_corona  nbre_pass_corona_h  nbre_pass_corona_f  \\\n",
      "0                 4.0                 6.0                 3.0   \n",
      "1                 0.0                 NaN                 NaN   \n",
      "2                 0.0                 NaN                 NaN   \n",
      "3                 0.0                 NaN                 NaN   \n",
      "4                 0.0                 NaN                 NaN   \n",
      "\n",
      "   nbre_pass_tot_h  nbre_pass_tot_f  nbre_hospit_corona_h  \\\n",
      "0            219.0            216.0                   1.0   \n",
      "1              NaN              NaN                   NaN   \n",
      "2              NaN              NaN                   NaN   \n",
      "3              NaN              NaN                   NaN   \n",
      "4              NaN              NaN                   NaN   \n",
      "\n",
      "   nbre_hospit_corona_f  \n",
      "0                   3.0  \n",
      "1                   NaN  \n",
      "2                   NaN  \n",
      "3                   NaN  \n",
      "4                   NaN  \n"
     ]
    }
   ],
   "source": [
    "# List of columns to drop\n",
    "columns_to_drop = [\n",
    "    'nbre_acte_corona', 'nbre_acte_tot', 'nbre_acte_corona_h', 'nbre_acte_corona_f',\n",
    "    'nbre_acte_tot_h', 'nbre_acte_tot_f'\n",
    "]\n",
    "\n",
    "# Drop the unnecessary columns\n",
    "df_cleaned_urgences = df_urgences.drop(columns=columns_to_drop, errors='ignore')\n",
    "\n",
    "print(df_cleaned_urgences.head())"
   ]
  }
 ],
 "metadata": {
  "kernelspec": {
   "display_name": "Python 3",
   "language": "python",
   "name": "python3"
  },
  "language_info": {
   "codemirror_mode": {
    "name": "ipython",
    "version": 3
   },
   "file_extension": ".py",
   "mimetype": "text/x-python",
   "name": "python",
   "nbconvert_exporter": "python",
   "pygments_lexer": "ipython3",
   "version": "3.12.0"
  }
 },
 "nbformat": 4,
 "nbformat_minor": 2
}
